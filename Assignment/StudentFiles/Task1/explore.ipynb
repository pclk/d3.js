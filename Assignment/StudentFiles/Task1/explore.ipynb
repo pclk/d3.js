{
  "cells": [
    {
      "cell_type": "markdown",
      "metadata": {
        "jukit_cell_id": "UtGnzfab3R"
      },
      "source": [
        "# Commercial Property Transactions Data Cleaning and Transformation"
      ]
    },
    {
      "cell_type": "code",
      "metadata": {
        "jukit_cell_id": "N8l0iHykbG"
      },
      "source": [
        "# Imports\n",
        "import pandas as pd\n",
        "import re\n",
        "from ydata_profiling import ProfileReport"
      ],
      "outputs": [],
      "execution_count": null
    },
    {
      "cell_type": "code",
      "metadata": {
        "jukit_cell_id": "3AkMOwRoCi"
      },
      "source": [
        "# Configuration\n",
        "pd.set_option(\"display.max_columns\", None)  # Show all columns\n",
        "pd.set_option(\"display.width\", 1000)  # Increase display width\n",
        "pd.set_option(\n",
        "    \"display.float_format\",\n",
        "    lambda x: \"{:,.0f}\".format(x) if isinstance(x, (int, float)) else str(x),\n",
        ")"
      ],
      "outputs": [],
      "execution_count": null
    },
    {
      "cell_type": "code",
      "metadata": {
        "jukit_cell_id": "GmKXbkT3WP"
      },
      "source": [
        "filepath = \"./public/data/CommercialTrans_201910 to 202410.csv\"\n",
        "df = pd.read_csv(filepath)"
      ],
      "outputs": [],
      "execution_count": null
    },
    {
      "cell_type": "code",
      "metadata": {
        "jukit_cell_id": "erUh7DZuvx"
      },
      "source": [
        "profile = ProfileReport(df, title=\"Profiling Report\")\n",
        "profile.to_file(\"before.html\")"
      ],
      "outputs": [],
      "execution_count": null
    },
    {
      "cell_type": "markdown",
      "metadata": {
        "jukit_cell_id": "zFfwmBk5pS"
      },
      "source": [
        "Known issues:\n",
        "- Dataset has 41 (1.2%) duplicate rows\n",
        "- Need to convert Transacted Price ($) to int\n",
        "- Need to convert Unit Price ($) to int\n",
        "- Remove Area (SQFT) and Unit Price ($ PSF) as we measure in meters\n",
        "- Need to convert Sale Date to date. current format is (month-year): (oct-21)\n",
        "  - May include Uppercase characters.\n",
        "- Area (SQM) to float\n",
        "- Cast Unit Price ($ PSM) to int\n",
        "- Tenure needs their info extracted. Example: \"99 yrs lease commencing from 1997\" and \"Freehold\"\n",
        "- Floor level needs their info extracted. Example: \"01 to 05\"\n",
        "- Project name includes string \"n.a\"\n",
        "\n",
        "Notes:\n",
        "In Type of Area, Strata refers to Condo, HDB, Shops and other apartment.\n",
        "In Type of Area, Land refers to landed properties.\n",
        "Should put a tooltip during visualization about this.\n",
        "Within visual, convert -5 and -1 in floor levels to B5 and B1"
      ]
    },
    {
      "cell_type": "code",
      "metadata": {
        "jukit_cell_id": "QBQg7uP0Zv"
      },
      "source": [
        "print(f\"Before removing duplicates: {len(df)}\")\n",
        "df = df.drop_duplicates()\n",
        "print(f\"After removing duplicates: {len(df)}\")"
      ],
      "outputs": [
        {
          "output_type": "stream",
          "name": "stdout",
          "text": "Before removing duplicates: 3556\nAfter removing duplicates: 3509\n"
        }
      ],
      "execution_count": 1
    },
    {
      "cell_type": "code",
      "metadata": {
        "jukit_cell_id": "Bd07CYJowS"
      },
      "source": [
        "# Drop redundant columns\n",
        "columns_to_drop = [\"Area (SQFT)\", \"Unit Price ($ PSF)\"]\n",
        "df = df.drop(columns=columns_to_drop)"
      ],
      "outputs": [],
      "execution_count": null
    },
    {
      "cell_type": "code",
      "metadata": {
        "jukit_cell_id": "kh7bq9mtYp"
      },
      "source": [
        "# Casting:\n",
        "\n",
        "# convert price columns\n",
        "df[\"Transacted Price ($)\"] = (\n",
        "    df[\"Transacted Price ($)\"].str.replace(\"$\", \"\").str.replace(\",\", \"\").astype(int)\n",
        ")\n",
        "df[\"Unit Price ($ PSM)\"] = (\n",
        "    df[\"Unit Price ($ PSM)\"].str.replace(\"$\", \"\").str.replace(\",\", \"\").astype(int)\n",
        ")\n",
        "# convert area\n",
        "df[\"Area (SQM)\"] = df[\"Area (SQM)\"].str.replace(\",\", \"\").astype(float)\n",
        "\n",
        "# convert dates\n",
        "df[\"Sale Date\"] = pd.to_datetime(df[\"Sale Date\"].str.lower(), format=\"%b-%y\")"
      ],
      "outputs": [],
      "execution_count": null
    },
    {
      "cell_type": "code",
      "metadata": {
        "jukit_cell_id": "MoKosJ0UBC"
      },
      "source": [
        "def extract_tenure_info(tenure):\n",
        "    if pd.isna(tenure):\n",
        "        return \"Unknown\", None\n",
        "    elif \"freehold\" in tenure.lower():\n",
        "        return \"Freehold\", None\n",
        "    else:\n",
        "        years = int(tenure.split()[0])\n",
        "        return \"Leasehold\", years\n",
        "\n",
        "\n",
        "df[[\"Tenure Type\", \"Lease Years\"]] = df[\"Tenure\"].apply(\n",
        "    lambda x: pd.Series(extract_tenure_info(x))\n",
        ")"
      ],
      "outputs": [],
      "execution_count": null
    },
    {
      "cell_type": "code",
      "metadata": {
        "jukit_cell_id": "wtBG8uKwla"
      },
      "source": [
        "def extract_floor_levels(floor_str):\n",
        "    if pd.isna(floor_str) or floor_str == \"-\":\n",
        "        return pd.NA, pd.NA\n",
        "    elif floor_str.startswith(\"B\"):\n",
        "        nums = re.findall(r\"B(\\d+)\\s+to\\s+B(\\d+)\", floor_str)\n",
        "        if nums:\n",
        "            return -int(nums[0][0]), -int(nums[0][1])\n",
        "        return pd.NA, pd.NA\n",
        "    else:\n",
        "        nums = re.findall(r\"(\\d+)\\s+to\\s+(\\d+)\", floor_str)\n",
        "        if nums:\n",
        "            return int(nums[0][0]), int(nums[0][1])\n",
        "        return pd.NA, pd.NA\n",
        "\n",
        "\n",
        "df[[\"Floor Min\", \"Floor Max\"]] = df[\"Floor Level\"].apply(\n",
        "    lambda x: pd.Series(extract_floor_levels(x))\n",
        ")"
      ],
      "outputs": [],
      "execution_count": null
    },
    {
      "cell_type": "code",
      "metadata": {
        "jukit_cell_id": "lTfYqwTvmo"
      },
      "source": [
        "def assign_floor_category(row):\n",
        "    if pd.isna(row[\"Floor Min\"]):\n",
        "        return \"Unknown\"\n",
        "    elif row[\"Floor Min\"] < 0:\n",
        "        return \"Basement\"\n",
        "    elif row[\"Floor Min\"] <= 5:\n",
        "        return \"01-05\"\n",
        "    elif row[\"Floor Min\"] <= 10:\n",
        "        return \"06-10\"\n",
        "    elif row[\"Floor Min\"] <= 15:\n",
        "        return \"11-15\"\n",
        "    elif row[\"Floor Min\"] <= 20:\n",
        "        return \"16-20\"\n",
        "    else:\n",
        "        return \"21+\"\n",
        "\n",
        "\n",
        "df[\"Floor Category\"] = df.apply(assign_floor_category, axis=1)"
      ],
      "outputs": [],
      "execution_count": null
    },
    {
      "cell_type": "code",
      "metadata": {
        "jukit_cell_id": "iVjdoilDpM"
      },
      "source": [
        "columns_to_drop = [\"Floor Level\", \"Tenure\"]\n",
        "df = df.drop(columns=columns_to_drop)"
      ],
      "outputs": [],
      "execution_count": null
    },
    {
      "cell_type": "code",
      "metadata": {
        "jukit_cell_id": "6LgyKsmo9S"
      },
      "source": [
        "# Add transaction year and month columns\n",
        "df[\"Transaction Year\"] = df[\"Sale Date\"].dt.year\n",
        "df[\"Transaction Month\"] = df[\"Sale Date\"].dt.month"
      ],
      "outputs": [],
      "execution_count": null
    },
    {
      "cell_type": "code",
      "metadata": {
        "jukit_cell_id": "DTtc1AwbRm"
      },
      "source": [
        "# Convert string \"n.a\" to actual NA.\n",
        "df.loc[df[\"Project Name\"].str.lower().str.contains(\"n.a\"), \"Project Name\"] = pd.NA"
      ],
      "outputs": [],
      "execution_count": null
    },
    {
      "cell_type": "code",
      "metadata": {
        "jukit_cell_id": "IuQyHRUcKx"
      },
      "source": [
        "from ydata_profiling import ProfileReport\n",
        "\n",
        "profile = ProfileReport(df, title=\"Profiling Report\")\n",
        "profile.to_file(\"after.html\")"
      ],
      "outputs": [],
      "execution_count": null
    },
    {
      "cell_type": "code",
      "metadata": {
        "jukit_cell_id": "G4KW1JQQiM"
      },
      "source": [
        "# Save cleaned dataset\n",
        "output_filepath = \"./public/data/clean_property.csv\"\n",
        "df.to_csv(output_filepath, index=False)\n",
        "print(f\"Cleaned dataset saved to: {output_filepath}\")\n",
        "print(f\"Number of rows: {len(df)}\")\n",
        "print(f\"Number of columns: {len(df.columns)}\")"
      ],
      "outputs": [
        {
          "output_type": "stream",
          "name": "stdout",
          "text": "Cleaned dataset saved to: ./public/data/clean_property.csv\nNumber of rows: 3509\nNumber of columns: 17\n"
        }
      ],
      "execution_count": 2
    },
    {
      "cell_type": "code",
      "metadata": {
        "jukit_cell_id": "pB7ZJkm65t"
      },
      "source": [],
      "outputs": [
        {
          "output_type": "stream",
          "name": "stdout",
          "text": "<class 'pandas.core.frame.DataFrame'>\nRangeIndex: 3556 entries, 0 to 3555\nData columns (total 14 columns):\n #   Column                Non-Null Count  Dtype \n---  ------                --------------  ----- \n 0   Project Name          3556 non-null   object\n 1   Street Name           3556 non-null   object\n 2   Property Type         3556 non-null   object\n 3   Transacted Price ($)  3556 non-null   object\n 4   Area (SQFT)           3556 non-null   object\n 5   Unit Price ($ PSF)    3556 non-null   object\n 6   Sale Date             3556 non-null   object\n 7   Type of Area          3556 non-null   object\n 8   Area (SQM)            3556 non-null   object\n 9   Unit Price ($ PSM)    3556 non-null   object\n 10  Tenure                3555 non-null   object\n 11  Postal District       3556 non-null   int64 \n 12  District Name         3556 non-null   object\n 13  Floor Level           3556 non-null   object\ndtypes: int64(1), object(13)\nmemory usage: 389.1+ KB\n"
        }
      ],
      "execution_count": 3
    }
  ],
  "metadata": {
    "anaconda-cloud": {},
    "kernelspec": {
      "display_name": "python",
      "language": "python",
      "name": "python3"
    }
  },
  "nbformat": 4,
  "nbformat_minor": 4
}